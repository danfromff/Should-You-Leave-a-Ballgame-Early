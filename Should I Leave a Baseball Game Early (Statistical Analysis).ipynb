{
 "cells": [
  {
   "cell_type": "code",
   "execution_count": 2,
   "id": "7aab7cf4",
   "metadata": {},
   "outputs": [],
   "source": [
    "#Today we attempt to answer the age-old question: \"Should we leave the ball game early?\"\n",
    "#We will break it down statistically and also employ machine learning to arrive at a\n",
    "#prediction of whether or not it is worth it to stick around.\n",
    "#First we import the libraries we'll need.\n",
    "import pandas as pd\n",
    "from statistics import NormalDist\n",
    "import random\n",
    "from statistics import mean\n",
    "import matplotlib.pyplot as plt\n",
    "import numpy as np\n",
    "from sklearn.model_selection  import train_test_split\n",
    "from sklearn.tree import DecisionTreeClassifier\n",
    "from sklearn.metrics import classification_report\n",
    "import sklearn.metrics\n",
    "from sklearn.neighbors import KNeighborsRegressor\n",
    "from sklearn.metrics import mean_squared_error\n",
    "from math import sqrt\n",
    "import scipy.stats\n",
    "#and we'll bring in our data.  This is a CSV of all the runs scored in all the games, \n",
    "#regular season and playoffs, in the MLB from the years 2010 to 2020.  Thanks to the \n",
    "#sports database https://sports-statistics.com for providing these numbers.  They are a GREAT\n",
    "#resource for sports stats.  This is a list of every game's box score from 2010 to 2020.  It's  \n",
    "#broken down by inning.\n",
    "df = pd.read_csv (r\"C:\\Users\\danbr\\OneDrive\\Documents\\Data Science\\Runs Data.csv\", index_col=None)"
   ]
  },
  {
   "cell_type": "code",
   "execution_count": 3,
   "id": "e4dd707d",
   "metadata": {},
   "outputs": [
    {
     "name": "stdout",
     "output_type": "stream",
     "text": [
      "       1st  2nd  3rd  4th  5th  6th  7th  8th  9th  Final\n",
      "0        0    2    0    3    0    0    2    0    0      7\n",
      "1        0    1    0    0    1    3    3    1    0      9\n",
      "2        0    0    0    5    0    2    4    0    0     11\n",
      "3        1    0    0    0    0    0    0    0    0      1\n",
      "4        0    0    0    0    0    1    0    0    0      1\n",
      "...    ...  ...  ...  ...  ...  ...  ...  ...  ...    ...\n",
      "51191    0    0    0    0    1    0    0    0    1      2\n",
      "51192    1    0    1    0    1    1    2    1    0      7\n",
      "51193    0    0    0    1    1    3    1    0    2      8\n",
      "51194    2    1    0    0    1    0    0    0    0      4\n",
      "51195    0    0    2    0    0    0    0    0    0      2\n",
      "\n",
      "[51196 rows x 10 columns]\n"
     ]
    }
   ],
   "source": [
    "#Let's get a look at the data.  It should look like a box score of a ball game, but instead of 2 teams\n",
    "#there will be over 50,000 (since it is every game for 10 years)\n",
    "print(df)"
   ]
  },
  {
   "cell_type": "code",
   "execution_count": 4,
   "id": "9845dbb2",
   "metadata": {},
   "outputs": [
    {
     "data": {
      "text/plain": [
       "1st      int64\n",
       "2nd      int64\n",
       "3rd      int64\n",
       "4th      int64\n",
       "5th      int64\n",
       "6th      int64\n",
       "7th      int64\n",
       "8th      int64\n",
       "9th      int64\n",
       "Final    int64\n",
       "dtype: object"
      ]
     },
     "execution_count": 4,
     "metadata": {},
     "output_type": "execute_result"
    }
   ],
   "source": [
    "#Looking good.  Let's make sure we're dealing with numbers, while we're at it.\n",
    "df.dtypes"
   ]
  },
  {
   "cell_type": "code",
   "execution_count": 5,
   "id": "9385df3c",
   "metadata": {},
   "outputs": [],
   "source": [
    "#Looks good!  Let's start to divide these columns up, because the first question I want to look at \n",
    "#is: When do runs get scored?  In what inning are the most runs scored.  First I'll copy the table\n",
    "#onto a new variable.\n",
    "runs=df"
   ]
  },
  {
   "cell_type": "code",
   "execution_count": 6,
   "id": "2b654ab7",
   "metadata": {},
   "outputs": [],
   "source": [
    "#Now I add up the sum of each column and save it as its own object.\n",
    "Total_1 = runs[\"1st\"].sum()\n",
    "Total_2 = runs[\"2nd\"].sum()\n",
    "Total_3 = runs[\"3rd\"].sum()\n",
    "Total_4 = runs[\"4th\"].sum()\n",
    "Total_5 = runs[\"5th\"].sum()\n",
    "Total_6 = runs[\"6th\"].sum()\n",
    "Total_7 = runs[\"7th\"].sum()\n",
    "Total_8 = runs[\"8th\"].sum()\n",
    "Total_9 = runs[\"9th\"].sum()"
   ]
  },
  {
   "cell_type": "code",
   "execution_count": 7,
   "id": "bf1e80a8",
   "metadata": {},
   "outputs": [
    {
     "name": "stdout",
     "output_type": "stream",
     "text": [
      "23592\n"
     ]
    }
   ],
   "source": [
    "#I check a random inning to see if the total has been added up.  23592?  Ok.  Sounds about right.\n",
    "print(Total_8)"
   ]
  },
  {
   "cell_type": "code",
   "execution_count": 8,
   "id": "970cabd2",
   "metadata": {},
   "outputs": [],
   "source": [
    "#Now to make an array of run totals, with each inning as its own column.\n",
    "TotalRuns=np.array([Total_1, Total_2, Total_3, Total_4, Total_5, Total_6, Total_7, Total_8, Total_9])"
   ]
  },
  {
   "cell_type": "code",
   "execution_count": 9,
   "id": "63967340",
   "metadata": {},
   "outputs": [
    {
     "name": "stdout",
     "output_type": "stream",
     "text": [
      "[27572 22825 25685 26272 26266 26445 25024 23592 16872]\n"
     ]
    }
   ],
   "source": [
    "#How does that look?\n",
    "print(TotalRuns)"
   ]
  },
  {
   "cell_type": "code",
   "execution_count": 10,
   "id": "9848778f",
   "metadata": {},
   "outputs": [
    {
     "data": {
      "text/plain": [
       "[<matplotlib.lines.Line2D at 0x26973d2cb80>]"
      ]
     },
     "execution_count": 10,
     "metadata": {},
     "output_type": "execute_result"
    },
    {
     "data": {
      "image/png": "[encoded data removed]",
      "text/plain": [
       "<Figure size 432x288 with 1 Axes>"
      ]
     },
     "metadata": {
      "needs_background": "light"
     },
     "output_type": "display_data"
    }
   ],
   "source": [
    "#Perfect!  Now I'm going to plot this out in a line graph.\n",
    "x=([1,2,3,4,5,6,7,8,9])\n",
    "y=TotalRuns\n",
    "plt.plot(x,y)"
   ]
  },
  {
   "cell_type": "code",
   "execution_count": 11,
   "id": "a4f4b664",
   "metadata": {},
   "outputs": [
    {
     "data": {
      "text/plain": [
       "<function matplotlib.pyplot.show(close=None, block=None)>"
      ]
     },
     "execution_count": 11,
     "metadata": {},
     "output_type": "execute_result"
    },
    {
     "data": {
      "image/png": "[encoded data removed]",
      "text/plain": [
       "<Figure size 432x288 with 1 Axes>"
      ]
     },
     "metadata": {
      "needs_background": "light"
     },
     "output_type": "display_data"
    }
   ],
   "source": [
    "#Woah!!  Runs drop off a cliff in the 9th inning!  Why bother sticking around for that?\n",
    "#But...look at the y axis.  The lowest number listed is 18,000.  So even though the line in the\n",
    "#chart looks like it's gone all the way down, that still represents 18,000 runs.  That's not zero.\n",
    "#So let's change from a line graph to bars:\n",
    "x=([1,2,3,4,5,6,7,8,9])\n",
    "y=TotalRuns\n",
    "plt.bar(x,y)\n",
    "plt.xlabel('Inning')\n",
    "plt.ylabel('Runs')\n",
    "plt.show"
   ]
  },
  {
   "cell_type": "code",
   "execution_count": 12,
   "id": "0942ca8f",
   "metadata": {},
   "outputs": [
    {
     "data": {
      "text/plain": [
       "0.32955699664036253"
      ]
     },
     "execution_count": 12,
     "metadata": {},
     "output_type": "execute_result"
    }
   ],
   "source": [
    "#Here we can see that even though, yes, the runs total drops a lot in the 9th, it still has a lot of\n",
    "#runs in it.  Matter of fact, lets divide the 9th inning total by the total amount of innings in our \n",
    "#original chart to get a rough average:\n",
    "Total_9/51196"
   ]
  },
  {
   "cell_type": "code",
   "execution_count": 13,
   "id": "a5f91090",
   "metadata": {},
   "outputs": [
    {
     "data": {
      "text/plain": [
       "0.4608172513477615"
      ]
     },
     "execution_count": 13,
     "metadata": {},
     "output_type": "execute_result"
    }
   ],
   "source": [
    "#Based on that rough average, you've got a 33% chance of seeing a run in the 9th.\n",
    "#Let's do the thing for the 8th.\n",
    "Total_8/51196"
   ]
  },
  {
   "cell_type": "code",
   "execution_count": 14,
   "id": "2e892f8a",
   "metadata": {},
   "outputs": [
    {
     "name": "stdout",
     "output_type": "stream",
     "text": [
      "0.32955699664036253\n"
     ]
    }
   ],
   "source": [
    "#Okay.  46% chance or runs in the 8th.  But this is all very rough.  Let's get more technical.\n",
    "#I'm going to run a Monte Carlo analysis on this.  First I determine the average and standard\n",
    "#deviation for runs in the ninth inning:\n",
    "NinthAvg=runs[\"9th\"].mean()\n",
    "print(NinthAvg)"
   ]
  },
  {
   "cell_type": "code",
   "execution_count": 15,
   "id": "9da08726",
   "metadata": {},
   "outputs": [
    {
     "name": "stdout",
     "output_type": "stream",
     "text": [
      "0.8217869608472946\n"
     ]
    }
   ],
   "source": [
    "NinthSdv=runs[\"9th\"].std()\n",
    "print(NinthSdv)"
   ]
  },
  {
   "cell_type": "code",
   "execution_count": 16,
   "id": "c80d4d1b",
   "metadata": {},
   "outputs": [],
   "source": [
    "#Now I make a function that will simulate a return based on that average and standard deviation.\n",
    "#We're taking the inverse cdf of a normal distrubution with the average of .32 and st dev of .82.\n",
    "#The wildcared is the randomized probability.  See, if you put in a 1 for probability (the highest)\n",
    "#possible probability) you'd get the average value.  But if you put in random probability, this \n",
    "#function will return a value somewhere on the probability scale of that avg and st dev.\n",
    "#One thing I was sure to do was to return 0 if the value was negative.  Cause they can't score \n",
    "#negative runs.  No one's that bad. And I set it to only return integers.  No fractional runs.\n",
    "def SimNine():\n",
    "    x= NormalDist(mu=0.32, sigma=0.82).inv_cdf(random.uniform(0,1))\n",
    "    if x>0:\n",
    "        return int(x)\n",
    "    else: return 0"
   ]
  },
  {
   "cell_type": "code",
   "execution_count": 17,
   "id": "0abf17d7",
   "metadata": {},
   "outputs": [
    {
     "data": {
      "text/plain": [
       "0"
      ]
     },
     "execution_count": 17,
     "metadata": {},
     "output_type": "execute_result"
    }
   ],
   "source": [
    "#Test out the simulator.  No runs scored.\n",
    "SimNine()"
   ]
  },
  {
   "cell_type": "code",
   "execution_count": 18,
   "id": "f18f1983",
   "metadata": {},
   "outputs": [],
   "source": [
    "#Well, we have a simulator.  Now to run it 10,000 times to see what we get.  This function is easy.\n",
    "#It will run through a range of 10,000 iterations of the simulation and add each returned value to a\n",
    "#list.  It will then take the average value of the contents of that list.  It will give us a value\n",
    "#of 9th inning runs we should expect based on the stats.\n",
    "def MonteNine():\n",
    "    z=[]\n",
    "    for _  in range(10000):\n",
    "        z.append(SimNine())\n",
    "    return int((sum(z)/len(z)))"
   ]
  },
  {
   "cell_type": "code",
   "execution_count": 19,
   "id": "1787f7ea",
   "metadata": {},
   "outputs": [
    {
     "data": {
      "text/plain": [
       "0"
      ]
     },
     "execution_count": 19,
     "metadata": {},
     "output_type": "execute_result"
    }
   ],
   "source": [
    "#Call the Monte Carlo function:\n",
    "MonteNine()"
   ]
  },
  {
   "cell_type": "code",
   "execution_count": 20,
   "id": "40a7901f",
   "metadata": {},
   "outputs": [
    {
     "name": "stdout",
     "output_type": "stream",
     "text": [
      "0.4608172513477615\n",
      "0.9893504564804319\n"
     ]
    }
   ],
   "source": [
    "#Goose egg.  Nada.\n",
    "#Let's do the same thing for the 8th.  Get the avg and std dev:\n",
    "EighthAvg=runs[\"8th\"].mean()\n",
    "EighthSdv=runs[\"8th\"].std()\n",
    "print(EighthAvg)\n",
    "print(EighthSdv)"
   ]
  },
  {
   "cell_type": "code",
   "execution_count": 21,
   "id": "150373c9",
   "metadata": {},
   "outputs": [],
   "source": [
    "#Define the simulator:\n",
    "def SimEight():\n",
    "    x= NormalDist(mu=0.46, sigma=0.989).inv_cdf(random.uniform(0,1))\n",
    "    if x>0:\n",
    "        return int(x)        \n",
    "    else: return 0"
   ]
  },
  {
   "cell_type": "code",
   "execution_count": 22,
   "id": "acd94e90",
   "metadata": {},
   "outputs": [
    {
     "data": {
      "text/plain": [
       "1"
      ]
     },
     "execution_count": 22,
     "metadata": {},
     "output_type": "execute_result"
    }
   ],
   "source": [
    "#test the simulator (ooh, a run!)\n",
    "SimEight()"
   ]
  },
  {
   "cell_type": "code",
   "execution_count": 23,
   "id": "9c210073",
   "metadata": {},
   "outputs": [],
   "source": [
    "#Define the Monte Carlo function for the 8th:\n",
    "def MonteEight():\n",
    "    z=[]\n",
    "    for _  in range(10000):\n",
    "        z.append(SimNine())    \n",
    "    return int((sum(z)/len(z)))"
   ]
  },
  {
   "cell_type": "code",
   "execution_count": 24,
   "id": "1b948b7a",
   "metadata": {},
   "outputs": [
    {
     "data": {
      "text/plain": [
       "0"
      ]
     },
     "execution_count": 24,
     "metadata": {},
     "output_type": "execute_result"
    }
   ],
   "source": [
    "#Run the Monte Carlo:\n",
    "MonteEight()"
   ]
  },
  {
   "cell_type": "code",
   "execution_count": 25,
   "id": "c5942976",
   "metadata": {},
   "outputs": [
    {
     "data": {
      "text/plain": [
       "25598.0"
      ]
     },
     "execution_count": 25,
     "metadata": {},
     "output_type": "execute_result"
    }
   ],
   "source": [
    "#Nohting doing.  But really, we shouldn't be surprised.  In terms of pure statistics, the 50% \n",
    "#average threashold would be the total number of rows divided by two:\n",
    "51196/2"
   ]
  },
  {
   "cell_type": "code",
   "execution_count": 26,
   "id": "dc63fc83",
   "metadata": {},
   "outputs": [
    {
     "name": "stdout",
     "output_type": "stream",
     "text": [
      "[27572 22825 25685 26272 26266 26445 25024 23592 16872]\n"
     ]
    }
   ],
   "source": [
    "#Therefore, any inning run total less than 25,598 is under .500, and the probability favors no runs\n",
    "#in that inning.\n",
    "print(TotalRuns)"
   ]
  },
  {
   "cell_type": "code",
   "execution_count": 27,
   "id": "2aca3c73",
   "metadata": {},
   "outputs": [],
   "source": [
    "#So, statistically speaking, you're only likely to see scores in the 1st, 3rd, 4th, \n",
    "# 5th and 6th innings.  But just because it's less than 50% likely doesn't mean it's \n",
    "#not going to happen.  I don't think we should leave it to statistical analysis.  \n",
    "#Let's build a prediction model."
   ]
  },
  {
   "cell_type": "code",
   "execution_count": 28,
   "id": "27e26b38",
   "metadata": {},
   "outputs": [],
   "source": [
    "#I'm making a new table just for predicting runs in the 8th.  We'll ditch the 9th and Final columns.\n",
    "pred8=runs.drop([\"9th\",\"Final\"], axis=1)"
   ]
  },
  {
   "cell_type": "code",
   "execution_count": 29,
   "id": "beeefe77",
   "metadata": {},
   "outputs": [
    {
     "data": {
      "text/html": [
       "<div>\n",
       "<style scoped>\n",
       "    .dataframe tbody tr th:only-of-type {\n",
       "        vertical-align: middle;\n",
       "    }\n",
       "\n",
       "    .dataframe tbody tr th {\n",
       "        vertical-align: top;\n",
       "    }\n",
       "\n",
       "    .dataframe thead th {\n",
       "        text-align: right;\n",
       "    }\n",
       "</style>\n",
       "<table border=\"1\" class=\"dataframe\">\n",
       "  <thead>\n",
       "    <tr style=\"text-align: right;\">\n",
       "      <th></th>\n",
       "      <th>1st</th>\n",
       "      <th>2nd</th>\n",
       "      <th>3rd</th>\n",
       "      <th>4th</th>\n",
       "      <th>5th</th>\n",
       "      <th>6th</th>\n",
       "      <th>7th</th>\n",
       "      <th>8th</th>\n",
       "    </tr>\n",
       "  </thead>\n",
       "  <tbody>\n",
       "    <tr>\n",
       "      <th>0</th>\n",
       "      <td>0</td>\n",
       "      <td>2</td>\n",
       "      <td>0</td>\n",
       "      <td>3</td>\n",
       "      <td>0</td>\n",
       "      <td>0</td>\n",
       "      <td>2</td>\n",
       "      <td>0</td>\n",
       "    </tr>\n",
       "    <tr>\n",
       "      <th>1</th>\n",
       "      <td>0</td>\n",
       "      <td>1</td>\n",
       "      <td>0</td>\n",
       "      <td>0</td>\n",
       "      <td>1</td>\n",
       "      <td>3</td>\n",
       "      <td>3</td>\n",
       "      <td>1</td>\n",
       "    </tr>\n",
       "    <tr>\n",
       "      <th>2</th>\n",
       "      <td>0</td>\n",
       "      <td>0</td>\n",
       "      <td>0</td>\n",
       "      <td>5</td>\n",
       "      <td>0</td>\n",
       "      <td>2</td>\n",
       "      <td>4</td>\n",
       "      <td>0</td>\n",
       "    </tr>\n",
       "    <tr>\n",
       "      <th>3</th>\n",
       "      <td>1</td>\n",
       "      <td>0</td>\n",
       "      <td>0</td>\n",
       "      <td>0</td>\n",
       "      <td>0</td>\n",
       "      <td>0</td>\n",
       "      <td>0</td>\n",
       "      <td>0</td>\n",
       "    </tr>\n",
       "    <tr>\n",
       "      <th>4</th>\n",
       "      <td>0</td>\n",
       "      <td>0</td>\n",
       "      <td>0</td>\n",
       "      <td>0</td>\n",
       "      <td>0</td>\n",
       "      <td>1</td>\n",
       "      <td>0</td>\n",
       "      <td>0</td>\n",
       "    </tr>\n",
       "    <tr>\n",
       "      <th>...</th>\n",
       "      <td>...</td>\n",
       "      <td>...</td>\n",
       "      <td>...</td>\n",
       "      <td>...</td>\n",
       "      <td>...</td>\n",
       "      <td>...</td>\n",
       "      <td>...</td>\n",
       "      <td>...</td>\n",
       "    </tr>\n",
       "    <tr>\n",
       "      <th>51191</th>\n",
       "      <td>0</td>\n",
       "      <td>0</td>\n",
       "      <td>0</td>\n",
       "      <td>0</td>\n",
       "      <td>1</td>\n",
       "      <td>0</td>\n",
       "      <td>0</td>\n",
       "      <td>0</td>\n",
       "    </tr>\n",
       "    <tr>\n",
       "      <th>51192</th>\n",
       "      <td>1</td>\n",
       "      <td>0</td>\n",
       "      <td>1</td>\n",
       "      <td>0</td>\n",
       "      <td>1</td>\n",
       "      <td>1</td>\n",
       "      <td>2</td>\n",
       "      <td>1</td>\n",
       "    </tr>\n",
       "    <tr>\n",
       "      <th>51193</th>\n",
       "      <td>0</td>\n",
       "      <td>0</td>\n",
       "      <td>0</td>\n",
       "      <td>1</td>\n",
       "      <td>1</td>\n",
       "      <td>3</td>\n",
       "      <td>1</td>\n",
       "      <td>0</td>\n",
       "    </tr>\n",
       "    <tr>\n",
       "      <th>51194</th>\n",
       "      <td>2</td>\n",
       "      <td>1</td>\n",
       "      <td>0</td>\n",
       "      <td>0</td>\n",
       "      <td>1</td>\n",
       "      <td>0</td>\n",
       "      <td>0</td>\n",
       "      <td>0</td>\n",
       "    </tr>\n",
       "    <tr>\n",
       "      <th>51195</th>\n",
       "      <td>0</td>\n",
       "      <td>0</td>\n",
       "      <td>2</td>\n",
       "      <td>0</td>\n",
       "      <td>0</td>\n",
       "      <td>0</td>\n",
       "      <td>0</td>\n",
       "      <td>0</td>\n",
       "    </tr>\n",
       "  </tbody>\n",
       "</table>\n",
       "<p>51196 rows × 8 columns</p>\n",
       "</div>"
      ],
      "text/plain": [
       "       1st  2nd  3rd  4th  5th  6th  7th  8th\n",
       "0        0    2    0    3    0    0    2    0\n",
       "1        0    1    0    0    1    3    3    1\n",
       "2        0    0    0    5    0    2    4    0\n",
       "3        1    0    0    0    0    0    0    0\n",
       "4        0    0    0    0    0    1    0    0\n",
       "...    ...  ...  ...  ...  ...  ...  ...  ...\n",
       "51191    0    0    0    0    1    0    0    0\n",
       "51192    1    0    1    0    1    1    2    1\n",
       "51193    0    0    0    1    1    3    1    0\n",
       "51194    2    1    0    0    1    0    0    0\n",
       "51195    0    0    2    0    0    0    0    0\n",
       "\n",
       "[51196 rows x 8 columns]"
      ]
     },
     "execution_count": 29,
     "metadata": {},
     "output_type": "execute_result"
    }
   ],
   "source": [
    "pred8"
   ]
  },
  {
   "cell_type": "code",
   "execution_count": 30,
   "id": "fb00d3cc",
   "metadata": {},
   "outputs": [],
   "source": [
    "#Now to set up the X and y groups.  X will be the whole table except the 8th inning, and y will be\n",
    "#the 8th inning (the one we're trying to predict)\n",
    "X = pred8.drop(\"8th\", axis=1)\n",
    "X = X.values\n",
    "y = pred8[\"8th\"]\n",
    "y = y.values"
   ]
  },
  {
   "cell_type": "code",
   "execution_count": 31,
   "id": "25e4f900",
   "metadata": {},
   "outputs": [],
   "source": [
    "#Setting up the training and testing data for our machine learning. \n",
    "X_train, X_test, y_train, y_test = train_test_split(X, y, test_size=0.2, random_state=12345)"
   ]
  },
  {
   "cell_type": "code",
   "execution_count": 32,
   "id": "6bc2e462",
   "metadata": {},
   "outputs": [],
   "source": [
    "#startint with 5 as the neighbor count:\n",
    "knn_model = KNeighborsRegressor(n_neighbors=5)"
   ]
  },
  {
   "cell_type": "code",
   "execution_count": 33,
   "id": "46d5ef93",
   "metadata": {},
   "outputs": [
    {
     "data": {
      "text/plain": [
       "KNeighborsRegressor()"
      ]
     },
     "execution_count": 33,
     "metadata": {},
     "output_type": "execute_result"
    }
   ],
   "source": [
    "#Time to train the data!  First we'll fit the model:\n",
    "knn_model.fit(X_train, y_train)"
   ]
  },
  {
   "cell_type": "code",
   "execution_count": 34,
   "id": "51c67564",
   "metadata": {},
   "outputs": [
    {
     "data": {
      "text/plain": [
       "1.0064597491615317"
      ]
     },
     "execution_count": 34,
     "metadata": {},
     "output_type": "execute_result"
    }
   ],
   "source": [
    "#Calculating the root mean square error.  This is a measurement of the distance between the \n",
    "#neighbors in our data.  First we run it for the training data.\n",
    "train_preds = knn_model.predict(X_train)\n",
    "mse = mean_squared_error(y_train, train_preds)\n",
    "rmse = sqrt(mse)\n",
    "rmse"
   ]
  },
  {
   "cell_type": "code",
   "execution_count": 35,
   "id": "38cf3b1f",
   "metadata": {},
   "outputs": [
    {
     "data": {
      "text/plain": [
       "1.0788177122433613"
      ]
     },
     "execution_count": 35,
     "metadata": {},
     "output_type": "execute_result"
    }
   ],
   "source": [
    "#Now we'll run that for the testing data:\n",
    "test_preds = knn_model.predict(X_test)\n",
    "mse = mean_squared_error(y_test, test_preds)\n",
    "rmse = sqrt(mse)\n",
    "rmse"
   ]
  },
  {
   "cell_type": "code",
   "execution_count": 36,
   "id": "b72d358b",
   "metadata": {},
   "outputs": [],
   "source": [
    "#Those numbers are pretty close.  That indicates that error in the training data model is close to \n",
    "#the error in the test data.  Whcih indicates the fit is at least somewhat predictive.  If those \n",
    "#values were way different it would indicate our training data doesn't anticipate new data well.\n",
    "#Now let's figure how many neighbors we should use on our test.\n",
    "from sklearn.model_selection import GridSearchCV\n",
    "parameters = {\"n_neighbors\": range(1, 50)}"
   ]
  },
  {
   "cell_type": "code",
   "execution_count": 37,
   "id": "26ba75c5",
   "metadata": {},
   "outputs": [],
   "source": [
    "gridsearch = GridSearchCV(KNeighborsRegressor(), parameters)"
   ]
  },
  {
   "cell_type": "code",
   "execution_count": 38,
   "id": "20847d93",
   "metadata": {},
   "outputs": [
    {
     "data": {
      "text/plain": [
       "GridSearchCV(estimator=KNeighborsRegressor(),\n",
       "             param_grid={'n_neighbors': range(1, 50)})"
      ]
     },
     "execution_count": 38,
     "metadata": {},
     "output_type": "execute_result"
    }
   ],
   "source": [
    "gridsearch.fit(X_train, y_train)"
   ]
  },
  {
   "cell_type": "code",
   "execution_count": 39,
   "id": "f8c8685d",
   "metadata": {},
   "outputs": [
    {
     "data": {
      "text/plain": [
       "{'n_neighbors': 47}"
      ]
     },
     "execution_count": 39,
     "metadata": {},
     "output_type": "execute_result"
    }
   ],
   "source": [
    "gridsearch.best_params_"
   ]
  },
  {
   "cell_type": "code",
   "execution_count": 40,
   "id": "ed5938aa",
   "metadata": {},
   "outputs": [],
   "source": [
    "#Okay!  That value for n_neighbors is 47.  So, we should use 47 neighbors to compare our new \n",
    "#data points.  Let's introduce a new data point.  We enter in the runs per inning for the first\n",
    "#seven innings of a ball game:\n",
    "first7 = np.array([0,0,0,2,0,0,0])"
   ]
  },
  {
   "cell_type": "code",
   "execution_count": 41,
   "id": "2fbb958e",
   "metadata": {},
   "outputs": [],
   "source": [
    "#We define how we measure distances of data for this new data point;\n",
    "distances= np.linalg.norm(X - first7, axis=1)"
   ]
  },
  {
   "cell_type": "code",
   "execution_count": 42,
   "id": "b4762d92",
   "metadata": {},
   "outputs": [
    {
     "data": {
      "text/plain": [
       "array([ 8256,  7877, 23505, 19227,  7096, 35576, 13406,  3114, 15765,\n",
       "       38212, 10785,  4853, 45117,  6177, 15810, 28927, 11522,   829,\n",
       "       17281, 13053, 43170,  7765, 49819, 21610,   440, 41547,  3152,\n",
       "       18686,  4545,  4132,  4134,  7691, 30584, 31874, 50404, 39939,\n",
       "       48195,   839, 14127, 26399, 22400, 21708, 48993, 45138, 41738,\n",
       "       12228, 17236], dtype=int64)"
      ]
     },
     "execution_count": 42,
     "metadata": {},
     "output_type": "execute_result"
    }
   ],
   "source": [
    "#We use 47 for our neighbor count (as established before) and run a k-Nearest Neighbor.\n",
    "k = 47\n",
    "nearest_neighbor_ids = distances.argsort()[:k]\n",
    "nearest_neighbor_ids"
   ]
  },
  {
   "cell_type": "code",
   "execution_count": 43,
   "id": "8e941307",
   "metadata": {},
   "outputs": [],
   "source": [
    "#These 47 results are the array IDs for the nearest neighbors or our first 7 innings data point.\n",
    "#The 8th inning value for each of these are what our model anticiaptes the 8th inning of our\n",
    "#fist 7 data point would be.  Let's pull the actual values for those array ids:\n",
    "nearest_neighbor_SP = y[nearest_neighbor_ids]"
   ]
  },
  {
   "cell_type": "code",
   "execution_count": 44,
   "id": "3530fa2b",
   "metadata": {},
   "outputs": [
    {
     "data": {
      "text/plain": [
       "array([1, 0, 0, 0, 1, 0, 0, 0, 0, 0, 0, 0, 1, 0, 0, 0, 0, 0, 1, 1, 0, 0,\n",
       "       2, 1, 0, 1, 3, 0, 0, 0, 1, 0, 0, 1, 0, 9, 0, 1, 0, 0, 0, 0, 0, 1,\n",
       "       0, 0, 0], dtype=int64)"
      ]
     },
     "execution_count": 44,
     "metadata": {},
     "output_type": "execute_result"
    }
   ],
   "source": [
    "nearest_neighbor_SP"
   ]
  },
  {
   "cell_type": "code",
   "execution_count": 66,
   "id": "3cc24a44",
   "metadata": {},
   "outputs": [],
   "source": [
    "#Okay!  We might see some action, here.  I'm seeing a bunch of 1's, a 2, a 3.  Is that a 9?!  \n",
    "#That's a great inning!  But there are a lot of zeroes too.  Let's average it out.\n",
    "#Wait.  Hold up.  We can't take the average, cause these multi-run innings will through that off.\n",
    "#If you have 8 zero run innings and toss in that one 9 run inning, the average is 1 run per inning.\n",
    "#We should count up all the zero-run innings.\n",
    "NoRuns8 = (nearest_neighbor_SP == 0).sum()"
   ]
  },
  {
   "cell_type": "code",
   "execution_count": 67,
   "id": "d6eaff90",
   "metadata": {},
   "outputs": [
    {
     "name": "stdout",
     "output_type": "stream",
     "text": [
      "33\n"
     ]
    }
   ],
   "source": [
    "print(NoRuns8)"
   ]
  },
  {
   "cell_type": "code",
   "execution_count": 47,
   "id": "94e62b24",
   "metadata": {},
   "outputs": [
    {
     "data": {
      "text/plain": [
       "0.2978723404255319"
      ]
     },
     "execution_count": 47,
     "metadata": {},
     "output_type": "execute_result"
    }
   ],
   "source": [
    "#33 zero run innings our of 47.  So your chance of seeing runs in the eighth?  \n",
    "1-(33/47)"
   ]
  },
  {
   "cell_type": "code",
   "execution_count": 48,
   "id": "c3ae75df",
   "metadata": {},
   "outputs": [],
   "source": [
    "#Just about thirty percent, based on the First 7 data we used.  Let's do all the same stuff but \n",
    "#for the ninth inning this time.\n",
    "pred9=runs.drop(\"Final\", axis=1)"
   ]
  },
  {
   "cell_type": "code",
   "execution_count": 49,
   "id": "8de214e1",
   "metadata": {},
   "outputs": [],
   "source": [
    "X1 = pred9.drop(\"9th\", axis=1)\n",
    "X1 = X1.values\n",
    "y1 = pred9[\"9th\"]\n",
    "y1 = y1.values"
   ]
  },
  {
   "cell_type": "code",
   "execution_count": 50,
   "id": "08a71530",
   "metadata": {},
   "outputs": [],
   "source": [
    "X1_train, X1_test, y1_train, y1_test = train_test_split(X1, y1, test_size=0.2, random_state=12345)"
   ]
  },
  {
   "cell_type": "code",
   "execution_count": 51,
   "id": "49b4929b",
   "metadata": {},
   "outputs": [],
   "source": [
    "knn_model1 = KNeighborsRegressor(n_neighbors=5)"
   ]
  },
  {
   "cell_type": "code",
   "execution_count": 52,
   "id": "974918a2",
   "metadata": {},
   "outputs": [
    {
     "data": {
      "text/plain": [
       "KNeighborsRegressor()"
      ]
     },
     "execution_count": 52,
     "metadata": {},
     "output_type": "execute_result"
    }
   ],
   "source": [
    "knn_model1.fit(X1_train, y1_train)"
   ]
  },
  {
   "cell_type": "code",
   "execution_count": 53,
   "id": "33b12973",
   "metadata": {},
   "outputs": [
    {
     "data": {
      "text/plain": [
       "0.861152229526351"
      ]
     },
     "execution_count": 53,
     "metadata": {},
     "output_type": "execute_result"
    }
   ],
   "source": [
    "train_preds1 = knn_model1.predict(X1_train)\n",
    "mse1 = mean_squared_error(y1_train, train_preds1)\n",
    "rmse1 = sqrt(mse1)\n",
    "rmse1"
   ]
  },
  {
   "cell_type": "code",
   "execution_count": 54,
   "id": "00bc4faa",
   "metadata": {},
   "outputs": [
    {
     "data": {
      "text/plain": [
       "0.9040058420718308"
      ]
     },
     "execution_count": 54,
     "metadata": {},
     "output_type": "execute_result"
    }
   ],
   "source": [
    "test_preds1 = knn_model1.predict(X1_test)\n",
    "mse1 = mean_squared_error(y1_test, test_preds1)\n",
    "rmse1 = sqrt(mse1)\n",
    "rmse1"
   ]
  },
  {
   "cell_type": "code",
   "execution_count": 55,
   "id": "d3ed917e",
   "metadata": {},
   "outputs": [],
   "source": [
    "#Ooh!  Our root mean square error is looking tight, and under 1!  Okay!\n",
    "parameters1 = {\"n_neighbors\": range(1, 50)}"
   ]
  },
  {
   "cell_type": "code",
   "execution_count": 56,
   "id": "1a929219",
   "metadata": {},
   "outputs": [],
   "source": [
    "gridsearch = GridSearchCV(KNeighborsRegressor(), parameters1)"
   ]
  },
  {
   "cell_type": "code",
   "execution_count": 57,
   "id": "621597cd",
   "metadata": {},
   "outputs": [
    {
     "data": {
      "text/plain": [
       "GridSearchCV(estimator=KNeighborsRegressor(),\n",
       "             param_grid={'n_neighbors': range(1, 50)})"
      ]
     },
     "execution_count": 57,
     "metadata": {},
     "output_type": "execute_result"
    }
   ],
   "source": [
    "gridsearch.fit(X1_train, y1_train)"
   ]
  },
  {
   "cell_type": "code",
   "execution_count": 58,
   "id": "f64f3491",
   "metadata": {},
   "outputs": [
    {
     "data": {
      "text/plain": [
       "{'n_neighbors': 49}"
      ]
     },
     "execution_count": 58,
     "metadata": {},
     "output_type": "execute_result"
    }
   ],
   "source": [
    "gridsearch.best_params_"
   ]
  },
  {
   "cell_type": "code",
   "execution_count": 59,
   "id": "821342b1",
   "metadata": {},
   "outputs": [],
   "source": [
    "#Okay, we're using 49 neighbors this time.  Let's get some numbers in as the First 8 innings.\n",
    "first8 = np.array([2,0,1,0,0,1,0,1])"
   ]
  },
  {
   "cell_type": "code",
   "execution_count": 60,
   "id": "14d2865b",
   "metadata": {},
   "outputs": [],
   "source": [
    "distances1= np.linalg.norm(X1 - first8, axis=1)"
   ]
  },
  {
   "cell_type": "code",
   "execution_count": 75,
   "id": "128c746f",
   "metadata": {},
   "outputs": [
    {
     "data": {
      "text/plain": [
       "array([46728, 44262, 23242,  5507, 34271, 33005, 33223, 42373,  3028,\n",
       "       39836,  3572,  7465,  1856, 40575,  4566,  3791, 23973,  2984,\n",
       "       23198, 38963, 32816, 22176,  1303, 21047, 21582, 22175, 25761,\n",
       "       48284, 17101, 49101, 13629,  5226, 29618, 50403, 37997, 18009,\n",
       "       47246, 38463, 36551,  6565, 42850, 48220, 32542,  6517, 15234,\n",
       "       38590, 21801, 30011, 16764], dtype=int64)"
      ]
     },
     "execution_count": 75,
     "metadata": {},
     "output_type": "execute_result"
    }
   ],
   "source": [
    "k = 49\n",
    "nearest_neighbor_ids1 = distances1.argsort()[:k]\n",
    "nearest_neighbor_ids1"
   ]
  },
  {
   "cell_type": "code",
   "execution_count": 62,
   "id": "1683b749",
   "metadata": {},
   "outputs": [],
   "source": [
    "nearest_neighbor_SP1 = y[nearest_neighbor_ids1]"
   ]
  },
  {
   "cell_type": "code",
   "execution_count": 63,
   "id": "40c4b5c1",
   "metadata": {},
   "outputs": [
    {
     "data": {
      "text/plain": [
       "array([1, 1, 1, 1, 0, 1, 0, 1, 0, 1, 1, 1, 1, 1, 1, 0, 1, 1, 1, 0, 1, 0,\n",
       "       0, 1, 1, 1, 1, 1, 1, 1, 1, 1, 1, 0, 1, 1, 0, 1, 1, 0, 1, 0, 1, 1,\n",
       "       1, 1, 0, 1, 1], dtype=int64)"
      ]
     },
     "execution_count": 63,
     "metadata": {},
     "output_type": "execute_result"
    }
   ],
   "source": [
    "nearest_neighbor_SP1"
   ]
  },
  {
   "cell_type": "code",
   "execution_count": 68,
   "id": "8866c673",
   "metadata": {},
   "outputs": [],
   "source": [
    "NoRuns9 = (nearest_neighbor_SP1 == 0).sum()"
   ]
  },
  {
   "cell_type": "code",
   "execution_count": 69,
   "id": "462625f0",
   "metadata": {},
   "outputs": [
    {
     "name": "stdout",
     "output_type": "stream",
     "text": [
      "12\n"
     ]
    }
   ],
   "source": [
    "print(NoRuns9)"
   ]
  },
  {
   "cell_type": "code",
   "execution_count": 70,
   "id": "09d7a67f",
   "metadata": {},
   "outputs": [
    {
     "data": {
      "text/plain": [
       "0.7755102040816326"
      ]
     },
     "execution_count": 70,
     "metadata": {},
     "output_type": "execute_result"
    }
   ],
   "source": [
    "#WOW!!!  There are only 11 out of 49 scoreless ninth innings in this data entry!  That makes your\n",
    "#odds of seeing runs in the ninth:\n",
    "1-(11/49)"
   ]
  },
  {
   "cell_type": "code",
   "execution_count": 71,
   "id": "cb004e18",
   "metadata": {},
   "outputs": [],
   "source": [
    "#78%!  Wait, I'm going to try something.  I'm going to do another First 8 innings array, but this \n",
    "#time with zero runs in the eighth.\n",
    "first8_a = np.array([2,0,1,0,0,1,0,0])"
   ]
  },
  {
   "cell_type": "code",
   "execution_count": 72,
   "id": "9ee021da",
   "metadata": {},
   "outputs": [],
   "source": [
    "distances2= np.linalg.norm(X1 - first8_a, axis=1)"
   ]
  },
  {
   "cell_type": "code",
   "execution_count": 74,
   "id": "781ae4a1",
   "metadata": {},
   "outputs": [
    {
     "data": {
      "text/plain": [
       "array([34271, 21801, 38963,  3028, 49721, 33223, 47246,  6565, 48220,\n",
       "       50403,  3791,  1303, 17388, 22176, 27154, 11980, 31896, 45291,\n",
       "       33680, 38812, 49660,  2408, 20721, 35699, 22687, 31878,  2062,\n",
       "        5093, 16518, 23951, 14966, 41584,  1302, 37952, 29344, 28485,\n",
       "       32112, 19256,  8695, 11839, 30344, 37030, 15452, 24023, 33536,\n",
       "        2243, 23242, 34816, 22660], dtype=int64)"
      ]
     },
     "execution_count": 74,
     "metadata": {},
     "output_type": "execute_result"
    }
   ],
   "source": [
    "k = 49\n",
    "nearest_neighbor_ids2 = distances2.argsort()[:k]\n",
    "nearest_neighbor_ids2"
   ]
  },
  {
   "cell_type": "code",
   "execution_count": 76,
   "id": "58f2539c",
   "metadata": {},
   "outputs": [],
   "source": [
    "nearest_neighbor_SP2 = y[nearest_neighbor_ids2]"
   ]
  },
  {
   "cell_type": "code",
   "execution_count": 77,
   "id": "66893696",
   "metadata": {},
   "outputs": [
    {
     "data": {
      "text/plain": [
       "array([0, 0, 0, 0, 0, 0, 0, 0, 0, 0, 0, 0, 0, 0, 0, 0, 0, 0, 0, 0, 0, 0,\n",
       "       0, 0, 0, 0, 0, 0, 0, 0, 0, 0, 0, 0, 0, 0, 0, 0, 0, 0, 0, 0, 0, 0,\n",
       "       0, 0, 1, 0, 0], dtype=int64)"
      ]
     },
     "execution_count": 77,
     "metadata": {},
     "output_type": "execute_result"
    }
   ],
   "source": [
    "nearest_neighbor_SP2"
   ]
  },
  {
   "cell_type": "code",
   "execution_count": 78,
   "id": "b17761f9",
   "metadata": {},
   "outputs": [],
   "source": [
    "NoRuns9a = (nearest_neighbor_SP2 == 0).sum()"
   ]
  },
  {
   "cell_type": "code",
   "execution_count": 79,
   "id": "58973360",
   "metadata": {},
   "outputs": [
    {
     "name": "stdout",
     "output_type": "stream",
     "text": [
      "48\n"
     ]
    }
   ],
   "source": [
    "print(NoRuns9a)"
   ]
  },
  {
   "cell_type": "code",
   "execution_count": null,
   "id": "cfd5d8b5",
   "metadata": {},
   "outputs": [],
   "source": [
    "#Aha!  If there are no runs in the 8th, then 48 out of 49 results are zero run 9th innings.\n",
    "#So what's the takeaway?  If you want to skip the 9th, statistically you probably won't miss\n",
    "#any runs. BUT!  If there were any runs scored in the 8th, you are very likely to see runs scored\n",
    "#in the ninth.  So stick around!\n",
    "#(my guess would be that runs scored in the 8th indicate a pitching staff that's beat up.  So if\n",
    "#they're beat up in the 8th, they're going to even worse in the 9th)"
   ]
  }
 ],
 "metadata": {
  "kernelspec": {
   "display_name": "Python 3 (ipykernel)",
   "language": "python",
   "name": "python3"
  },
  "language_info": {
   "codemirror_mode": {
    "name": "ipython",
    "version": 3
   },
   "file_extension": ".py",
   "mimetype": "text/x-python",
   "name": "python",
   "nbconvert_exporter": "python",
   "pygments_lexer": "ipython3",
   "version": "3.9.7"
  }
 },
 "nbformat": 4,
 "nbformat_minor": 5
}
